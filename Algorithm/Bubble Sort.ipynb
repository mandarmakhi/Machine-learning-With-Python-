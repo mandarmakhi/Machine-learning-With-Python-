{
 "cells": [
  {
   "cell_type": "markdown",
   "metadata": {},
   "source": [
    "# Bubble Sort\n",
    "Bubble Sort is the simplest sorting algorithm that works by repeatedly swapping the adjacent elements if they are in wrong order.\n",
    "\n",
    "Example:\n",
    "\n",
    "First Pass:\n",
    "\n",
    "( 5 1 4 2 8 ) –> ( 1 5 4 2 8 ), Here, algorithm compares the first two elements, and swaps since 5 > 1.\n",
    "\n",
    "( 1 5 4 2 8 ) –>  ( 1 4 5 2 8 ), Swap since 5 > 4\n",
    "\n",
    "( 1 4 5 2 8 ) –>  ( 1 4 2 5 8 ), Swap since 5 > 2\n",
    "\n",
    "( 1 4 2 5 8 ) –> ( 1 4 2 5 8 ), Now, since these elements are already in order (8 > 5), algorithm does not swap them.\n",
    "\n",
    "Second Pass:\n",
    "\n",
    "( 1 4 2 5 8 ) –> ( 1 4 2 5 8 )\n",
    "\n",
    "( 1 4 2 5 8 ) –> ( 1 2 4 5 8 ), Swap since 4 > 2\n",
    "\n",
    "( 1 2 4 5 8 ) –> ( 1 2 4 5 8 )\n",
    "\n",
    "( 1 2 4 5 8 ) –>  ( 1 2 4 5 8 )\n",
    "\n",
    "Now, the array is already sorted, but our algorithm does not know if it is completed. The algorithm needs one whole pass without any swap to know it is sorted.\n",
    "\n",
    "Third Pass:\n",
    "\n",
    "( 1 2 4 5 8 ) –> ( 1 2 4 5 8 )\n",
    "\n",
    "( 1 2 4 5 8 ) –> ( 1 2 4 5 8 )\n",
    "\n",
    "( 1 2 4 5 8 ) –> ( 1 2 4 5 8 )\n",
    "\n",
    "( 1 2 4 5 8 ) –> ( 1 2 4 5 8 )\n"
   ]
  },
  {
   "cell_type": "code",
   "execution_count": 1,
   "metadata": {},
   "outputs": [
    {
     "name": "stdout",
     "output_type": "stream",
     "text": [
      "Sorted array is:\n",
      "11\n",
      "12\n",
      "22\n",
      "25\n",
      "34\n",
      "64\n",
      "90\n"
     ]
    }
   ],
   "source": [
    "# Python program for implementation of Bubble Sort \n",
    "\n",
    "def bubbleSort(arr): \n",
    "\tn = len(arr) \n",
    "\n",
    "\t# Traverse through all array elements \n",
    "\tfor i in range(n): \n",
    "\n",
    "\t\t# Last i elements are already in place \n",
    "\t\tfor j in range(0, n-i-1): \n",
    "\n",
    "# traverse the array from 0 to n-i-1 \n",
    "\t\t\t# Swap if the element found is greater \n",
    "\t\t\t# than the next element \n",
    "\t\t\tif arr[j] > arr[j+1] : \n",
    "\t\t\t\tarr[j], arr[j+1] = arr[j+1], arr[j] \n",
    "\n",
    "# Driver code to test above \n",
    "arr = [64, 34, 25, 12, 22, 11, 90] \n",
    "\n",
    "bubbleSort(arr) \n",
    "\n",
    "print (\"Sorted array is:\") \n",
    "for i in range(len(arr)): \n",
    "\tprint (\"%d\" %arr[i]), \n"
   ]
  },
  {
   "cell_type": "code",
   "execution_count": null,
   "metadata": {},
   "outputs": [],
   "source": []
  }
 ],
 "metadata": {
  "kernelspec": {
   "display_name": "Python 3",
   "language": "python",
   "name": "python3"
  },
  "language_info": {
   "codemirror_mode": {
    "name": "ipython",
    "version": 3
   },
   "file_extension": ".py",
   "mimetype": "text/x-python",
   "name": "python",
   "nbconvert_exporter": "python",
   "pygments_lexer": "ipython3",
   "version": "3.8.3"
  }
 },
 "nbformat": 4,
 "nbformat_minor": 4
}
