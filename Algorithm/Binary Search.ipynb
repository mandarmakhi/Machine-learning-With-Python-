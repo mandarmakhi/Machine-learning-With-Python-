{
 "cells": [
  {
   "cell_type": "markdown",
   "metadata": {},
   "source": [
    "# Binary Search\n",
    "\n",
    "Binary Search: Search a sorted array by repeatedly dividing the search interval in half. Begin with an interval covering the whole array. If the value of the search key is less than the item in the middle of the interval, narrow the interval to the lower half. Otherwise narrow it to the upper half. Repeatedly check until the value is found or the interval is empty.\n",
    "\n",
    "## Recursive implementation of Binary Search"
   ]
  },
  {
   "cell_type": "code",
   "execution_count": 1,
   "metadata": {},
   "outputs": [
    {
     "name": "stdout",
     "output_type": "stream",
     "text": [
      "Element is present at index  3\n"
     ]
    }
   ],
   "source": [
    "# Python3 Program for recursive binary search. \n",
    "\n",
    "# Returns index of x in arr if present, else -1 \n",
    "def binarySearch (arr, l, r, x): \n",
    "\n",
    "\t# Check base case \n",
    "\tif r >= l: \n",
    "\n",
    "\t\tmid = l + (r - l) // 2\n",
    "\n",
    "\t\t# If element is present at the middle itself \n",
    "\t\tif arr[mid] == x: \n",
    "\t\t\treturn mid \n",
    "\t\t\n",
    "\t\t# If element is smaller than mid, then it \n",
    "\t\t# can only be present in left subarray \n",
    "\t\telif arr[mid] > x: \n",
    "\t\t\treturn binarySearch(arr, l, mid-1, x) \n",
    "\n",
    "\t\t# Else the element can only be present \n",
    "\t\t# in right subarray \n",
    "\t\telse: \n",
    "\t\t\treturn binarySearch(arr, mid + 1, r, x) \n",
    "\n",
    "\telse: \n",
    "\t\t# Element is not present in the array \n",
    "\t\treturn -1\n",
    "\n",
    "# Driver Code \n",
    "arr = [ 2, 3, 4, 10, 40 ] \n",
    "x = 10\n",
    "\n",
    "# Function call \n",
    "result = binarySearch(arr, 0, len(arr)-1, x) \n",
    "\n",
    "if result != -1: \n",
    "\tprint (\"Element is present at index % d\" % result) \n",
    "else: \n",
    "\tprint (\"Element is not present in array\") \n"
   ]
  },
  {
   "cell_type": "code",
   "execution_count": null,
   "metadata": {},
   "outputs": [],
   "source": []
  },
  {
   "cell_type": "markdown",
   "metadata": {},
   "source": [
    "## Iterative implementation of Binary Search"
   ]
  },
  {
   "cell_type": "code",
   "execution_count": 2,
   "metadata": {},
   "outputs": [
    {
     "name": "stdout",
     "output_type": "stream",
     "text": [
      "Element is present at index  3\n"
     ]
    }
   ],
   "source": [
    "# Python3 code to implement iterative Binary \n",
    "# Search. \n",
    "\n",
    "# It returns location of x in given array arr \n",
    "# if present, else returns -1 \n",
    "def binarySearch(arr, l, r, x): \n",
    "\n",
    "\twhile l <= r: \n",
    "\n",
    "\t\tmid = l + (r - l) // 2; \n",
    "\t\t\n",
    "\t\t# Check if x is present at mid \n",
    "\t\tif arr[mid] == x: \n",
    "\t\t\treturn mid \n",
    "\n",
    "\t\t# If x is greater, ignore left half \n",
    "\t\telif arr[mid] < x: \n",
    "\t\t\tl = mid + 1\n",
    "\n",
    "\t\t# If x is smaller, ignore right half \n",
    "\t\telse: \n",
    "\t\t\tr = mid - 1\n",
    "\t\n",
    "\t# If we reach here, then the element \n",
    "\t# was not present \n",
    "\treturn -1\n",
    "\n",
    "# Driver Code \n",
    "arr = [ 2, 3, 4, 10, 40 ] \n",
    "x = 10\n",
    "\n",
    "# Function call \n",
    "result = binarySearch(arr, 0, len(arr)-1, x) \n",
    "\n",
    "if result != -1: \n",
    "\tprint (\"Element is present at index % d\" % result) \n",
    "else: \n",
    "\tprint (\"Element is not present in array\") \n"
   ]
  },
  {
   "cell_type": "code",
   "execution_count": null,
   "metadata": {},
   "outputs": [],
   "source": []
  },
  {
   "cell_type": "markdown",
   "metadata": {},
   "source": [
    "Time Complexity:\n",
    "The time complexity of Binary Search can be written as\n",
    "\n",
    "T(n) = T(n/2) + c \n",
    "The above recurrence can be solved either using Recurrence T ree method or Master method. It falls in case II of Master Method and solution of the recurrence is Theta(Logn).\n",
    "\n",
    "Auxiliary Space: O(1) in case of iterative implementation. In case of recursive implementation, O(Logn) recursion call stack space.\n",
    "\n"
   ]
  },
  {
   "cell_type": "code",
   "execution_count": null,
   "metadata": {},
   "outputs": [],
   "source": []
  }
 ],
 "metadata": {
  "kernelspec": {
   "display_name": "Python 3",
   "language": "python",
   "name": "python3"
  },
  "language_info": {
   "codemirror_mode": {
    "name": "ipython",
    "version": 3
   },
   "file_extension": ".py",
   "mimetype": "text/x-python",
   "name": "python",
   "nbconvert_exporter": "python",
   "pygments_lexer": "ipython3",
   "version": "3.8.3"
  }
 },
 "nbformat": 4,
 "nbformat_minor": 4
}
