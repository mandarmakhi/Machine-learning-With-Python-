{
 "cells": [
  {
   "cell_type": "markdown",
   "metadata": {},
   "source": [
    "# Heap Sort\n",
    "\n",
    "Heap sort is a comparison based sorting technique based on Binary Heap data structure. It is similar to selection sort where we first find the maximum element and place the maximum element at the end. We repeat the same process for the remaining elements.\n",
    "\n",
    "### How to build the heap? \n",
    "Heapify procedure can be applied to a node only if its children nodes are heapified. So the heapification must be performed in the bottom-up order.\n",
    "\n",
    "Input data: 4, 10, 3, 5, 1\n",
    "\n",
    "         4(0)\n",
    "        /   \\\n",
    "     10(1)   3(2)\n",
    "    /   \\\n",
    " 5(3)    1(4)\n",
    "\n",
    "The numbers in bracket represent the indices in the array \n",
    "representation of data.\n",
    "\n",
    "Applying heapify procedure to index 1:\n",
    "\n",
    "         4(0)\n",
    "        /   \\\n",
    "    10(1)    3(2)\n",
    "    /   \\\n",
    "5(3)    1(4)\n",
    "\n",
    "Applying heapify procedure to index 0:\n",
    "\n",
    "        10(0)\n",
    "        /  \\\n",
    "     5(1)  3(2)\n",
    "    /   \\\n",
    " 4(3)    1(4)\n",
    " \n",
    "The heapify procedure calls itself recursively to build heap\n",
    " in top down manner."
   ]
  },
  {
   "cell_type": "code",
   "execution_count": 2,
   "metadata": {},
   "outputs": [
    {
     "name": "stdout",
     "output_type": "stream",
     "text": [
      "Sorted array is\n",
      "5\n",
      "6\n",
      "7\n",
      "11\n",
      "12\n",
      "13\n"
     ]
    }
   ],
   "source": [
    "# Python program for implementation of heap Sort\n",
    "\n",
    "# To heapify subtree rooted at index i.\n",
    "# n is size of heap\n",
    "\n",
    "\n",
    "def heapify(arr, n, i):\n",
    "\tlargest = i # Initialize largest as root\n",
    "\tl = 2 * i + 1\t # left = 2*i + 1\n",
    "\tr = 2 * i + 2\t # right = 2*i + 2\n",
    "\n",
    "\t# See if left child of root exists and is\n",
    "\t# greater than root\n",
    "\tif l < n and arr[largest] < arr[l]:\n",
    "\t\tlargest = l\n",
    "\n",
    "\t# See if right child of root exists and is\n",
    "\t# greater than root\n",
    "\tif r < n and arr[largest] < arr[r]:\n",
    "\t\tlargest = r\n",
    "\n",
    "\t# Change root, if needed\n",
    "\tif largest != i:\n",
    "\t\tarr[i], arr[largest] = arr[largest], arr[i] # swap\n",
    "\n",
    "\t\t# Heapify the root.\n",
    "\t\theapify(arr, n, largest)\n",
    "\n",
    "# The main function to sort an array of given size\n",
    "\n",
    "\n",
    "def heapSort(arr):\n",
    "\tn = len(arr)\n",
    "\n",
    "\t# Build a maxheap.\n",
    "\tfor i in range(n//2 - 1, -1, -1):\n",
    "\t\theapify(arr, n, i)\n",
    "\n",
    "\t# One by one extract elements\n",
    "\tfor i in range(n-1, 0, -1):\n",
    "\t\tarr[i], arr[0] = arr[0], arr[i] # swap\n",
    "\t\theapify(arr, i, 0)\n",
    "\n",
    "\n",
    "# Driver code\n",
    "arr = [12, 11, 13, 5, 6, 7]\n",
    "heapSort(arr)\n",
    "n = len(arr)\n",
    "print(\"Sorted array is\")\n",
    "for i in range(n):\n",
    "\tprint(\"%d\" % arr[i]),\n",
    "\n"
   ]
  },
  {
   "cell_type": "code",
   "execution_count": null,
   "metadata": {},
   "outputs": [],
   "source": []
  }
 ],
 "metadata": {
  "kernelspec": {
   "display_name": "Python 3",
   "language": "python",
   "name": "python3"
  },
  "language_info": {
   "codemirror_mode": {
    "name": "ipython",
    "version": 3
   },
   "file_extension": ".py",
   "mimetype": "text/x-python",
   "name": "python",
   "nbconvert_exporter": "python",
   "pygments_lexer": "ipython3",
   "version": "3.8.3"
  }
 },
 "nbformat": 4,
 "nbformat_minor": 4
}
