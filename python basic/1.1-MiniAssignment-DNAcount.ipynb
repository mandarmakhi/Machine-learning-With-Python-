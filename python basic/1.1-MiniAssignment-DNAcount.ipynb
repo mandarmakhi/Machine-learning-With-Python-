{
 "cells": [
  {
   "cell_type": "markdown",
   "metadata": {},
   "source": [
    "# Loops and conditions\n",
    "\n",
    "Loops provide the method of iteration while condition allows or blocks the code execution  when specified condition is meet."
   ]
  },
  {
   "cell_type": "markdown",
   "metadata": {},
   "source": [
    "### For llop and While Loop"
   ]
  },
  {
   "cell_type": "markdown",
   "metadata": {},
   "source": [
    "- To iterate over the List. Lets prin the items in the list"
   ]
  },
  {
   "cell_type": "code",
   "execution_count": 1,
   "metadata": {},
   "outputs": [
    {
     "name": "stdout",
     "output_type": "stream",
     "text": [
      "apple\n",
      "banana\n",
      "kite\n",
      "cellphone\n"
     ]
    }
   ],
   "source": [
    "L =['apple','banana','kite','cellphone']\n",
    "for item in L:\n",
    "    print(item)"
   ]
  },
  {
   "cell_type": "markdown",
   "metadata": {},
   "source": [
    "- What is range?"
   ]
  },
  {
   "cell_type": "code",
   "execution_count": 6,
   "metadata": {},
   "outputs": [
    {
     "data": {
      "text/plain": [
       "(range(0, 5), range(1, 100), 4950)"
      ]
     },
     "execution_count": 6,
     "metadata": {},
     "output_type": "execute_result"
    }
   ],
   "source": [
    "range(5), range(1,100), sum(range(100))"
   ]
  },
  {
   "cell_type": "markdown",
   "metadata": {},
   "source": [
    "- To iterate with ```for``` loop and adding the iterating index (the value of ```10*k```) to a blank List ```L```."
   ]
  },
  {
   "cell_type": "code",
   "execution_count": 1,
   "metadata": {},
   "outputs": [
    {
     "data": {
      "text/plain": [
       "[0, 10, 20, 30, 40, 50, 60, 70, 80, 90]"
      ]
     },
     "execution_count": 1,
     "metadata": {},
     "output_type": "execute_result"
    }
   ],
   "source": [
    "L = []\n",
    "for k in range(10):\n",
    "    L.append(10*k)\n",
    "L"
   ]
  },
  {
   "cell_type": "markdown",
   "metadata": {},
   "source": [
    "- To create a double loop also called ***nested for loop***. Lets create double for loop with ```i``` and ```j``` with range ```5``` and also populate the dictionary with ```key``` as ```(i,j)```and ```value``` as ```10*i+j``` when ```i=j``` and ```100*1+j``` when ```i!=j```."
   ]
  },
  {
   "cell_type": "code",
   "execution_count": 3,
   "metadata": {},
   "outputs": [
    {
     "name": "stdout",
     "output_type": "stream",
     "text": [
      "{(0, 0): 0, (0, 1): 1, (0, 2): 2, (0, 3): 3, (0, 4): 4, (1, 0): 100, (1, 1): 11, (1, 2): 102, (1, 3): 103, (1, 4): 104, (2, 0): 200, (2, 1): 201, (2, 2): 22, (2, 3): 203, (2, 4): 204, (3, 0): 300, (3, 1): 301, (3, 2): 302, (3, 3): 33, (3, 4): 304, (4, 0): 400, (4, 1): 401, (4, 2): 402, (4, 3): 403, (4, 4): 44}\n"
     ]
    }
   ],
   "source": [
    "D = {}\n",
    "for i in range(5):\n",
    "    for j in range(5):\n",
    "        if i == j :\n",
    "            D.update({(i,j) : 10*i+j})\n",
    "        elif i!= j:\n",
    "            D.update({(i,j) : 100*i+j})\n",
    "            \n",
    "print(D)"
   ]
  },
  {
   "cell_type": "markdown",
   "metadata": {},
   "source": [
    "- To iterate two elements from two seperate Lists. It is not like nested for loop."
   ]
  },
  {
   "cell_type": "code",
   "execution_count": 10,
   "metadata": {},
   "outputs": [
    {
     "name": "stdout",
     "output_type": "stream",
     "text": [
      "apple | 0 | 12\n",
      "banana | 1 | 45\n",
      "kite | 2 | 45\n",
      "cellphone | 3 | 67\n",
      "pen | 4 | 34\n"
     ]
    }
   ],
   "source": [
    "for item,j,k in zip(['apple','banana','kite','cellphone','pen'],\\\n",
    "                    range(5),[12,45,45,67,34]):\n",
    "    print(item,\"|\",j,\"|\",k)"
   ]
  },
  {
   "cell_type": "markdown",
   "metadata": {},
   "source": [
    "- To iterate and ```ennumerate``` both together."
   ]
  },
  {
   "cell_type": "code",
   "execution_count": 14,
   "metadata": {},
   "outputs": [
    {
     "name": "stdout",
     "output_type": "stream",
     "text": [
      "The 0 th element is:  apple\n",
      "The 1 th element is:  banana\n",
      "The 2 th element is:  kite\n",
      "The 3 th element is:  cellphone\n"
     ]
    }
   ],
   "source": [
    "for i,item in enumerate(['apple','banana','kite','cellphone']):\n",
    "    print(\"The\",i,\"th element is: \", item)"
   ]
  },
  {
   "cell_type": "markdown",
   "metadata": {},
   "source": [
    "- To create a list with ```for``` loop"
   ]
  },
  {
   "cell_type": "code",
   "execution_count": 18,
   "metadata": {},
   "outputs": [
    {
     "name": "stdout",
     "output_type": "stream",
     "text": [
      "[1, 16, 51, 106, 181, 276, 391, 526, 681, 856]\n"
     ]
    }
   ],
   "source": [
    "A = [10*k**2+5*k+1 for k in range(10)]\n",
    "print(A)"
   ]
  },
  {
   "cell_type": "code",
   "execution_count": 26,
   "metadata": {},
   "outputs": [
    {
     "name": "stdout",
     "output_type": "stream",
     "text": [
      "[[1, 11, 41], [6, 16, 46], [11, 21, 51]]\n"
     ]
    }
   ],
   "source": [
    "AA = [[10*x**2+5*y+1 for x in range(3)] for y in range(3)]\n",
    "print(AA)"
   ]
  },
  {
   "cell_type": "markdown",
   "metadata": {},
   "source": [
    "- To iterate over List of List"
   ]
  },
  {
   "cell_type": "code",
   "execution_count": 29,
   "metadata": {},
   "outputs": [
    {
     "name": "stdout",
     "output_type": "stream",
     "text": [
      "The ( 0 , 0 ) th element is:  1\n",
      "The ( 0 , 1 ) th element is:  11\n",
      "The ( 0 , 2 ) th element is:  41\n",
      "The ( 1 , 0 ) th element is:  6\n",
      "The ( 1 , 1 ) th element is:  16\n",
      "The ( 1 , 2 ) th element is:  46\n",
      "The ( 2 , 0 ) th element is:  11\n",
      "The ( 2 , 1 ) th element is:  21\n",
      "The ( 2 , 2 ) th element is:  51\n"
     ]
    }
   ],
   "source": [
    "for i in range(3): \n",
    "    for j in range(3):\n",
    "        print(\"The\",\"(\",i,\",\",j,\")\",\"th element is: \",AA[i][j])"
   ]
  },
  {
   "cell_type": "markdown",
   "metadata": {},
   "source": [
    "- To use ```while``` loop."
   ]
  },
  {
   "cell_type": "code",
   "execution_count": 30,
   "metadata": {},
   "outputs": [
    {
     "name": "stdout",
     "output_type": "stream",
     "text": [
      "0 th turn\n",
      "1 th turn\n",
      "2 th turn\n",
      "3 th turn\n",
      "4 th turn\n"
     ]
    }
   ],
   "source": [
    "i = 0\n",
    "while i <5:\n",
    "    print( i, \"th turn\")\n",
    "    i = i+1"
   ]
  },
  {
   "cell_type": "markdown",
   "metadata": {},
   "source": [
    "- To break for loop implementing ```if``` condition"
   ]
  },
  {
   "cell_type": "code",
   "execution_count": 44,
   "metadata": {},
   "outputs": [
    {
     "name": "stdout",
     "output_type": "stream",
     "text": [
      "0\n",
      "1\n",
      "2\n",
      "3\n"
     ]
    }
   ],
   "source": [
    "for i in range(10):\n",
    "    print(i)\n",
    "    if i ==3:\n",
    "        break"
   ]
  },
  {
   "cell_type": "markdown",
   "metadata": {},
   "source": [
    "- To test the if conditions:"
   ]
  },
  {
   "cell_type": "code",
   "execution_count": 37,
   "metadata": {},
   "outputs": [
    {
     "name": "stdout",
     "output_type": "stream",
     "text": [
      "It is samaller then 10 and greater then 8 | 8.910435750481426\n",
      "It is samaller then 8 and greater then 6 | 6.616669779231224\n",
      "It is samaller then 4 and greater then 2 | 3.8009645328925896\n",
      "It is samaller then 4 and greater then 2 | 3.3039198434839117\n",
      "It is samaller then 4 and greater then 2 | 3.2192327041596696\n",
      "It is samaller then 10 and greater then 8 | 8.658302824387317\n",
      "It is samaller then 10 and greater then 8 | 9.048987906482312\n",
      "It is samaller then 10 and greater then 8 | 8.061577985253708\n",
      "It is samaller then 8 and greater then 6 | 6.301327115111054\n",
      "It is samaller then 6 and greater then 4 | 5.316492901781898\n"
     ]
    }
   ],
   "source": [
    "import random as random\n",
    "\n",
    "for i in range(10):\n",
    "    r = random.uniform(1,10)\n",
    "    if r<2 and r>0:\n",
    "        print(\"It is samaller then 2 and greater then 1\",\"|\", r)\n",
    "    elif r<4 and r>2:\n",
    "        print(\"It is samaller then 4 and greater then 2\",\"|\", r)\n",
    "    elif r<6 and r>4:\n",
    "        print(\"It is samaller then 6 and greater then 4\",\"|\", r)\n",
    "    elif r<8 and r>6:\n",
    "        print(\"It is samaller then 8 and greater then 6\",\"|\", r)\n",
    "    elif r<10 and r>8:\n",
    "        print(\"It is samaller then 10 and greater then 8\",\"|\", r)"
   ]
  },
  {
   "cell_type": "markdown",
   "metadata": {},
   "source": [
    "- To find sum from 0 to 1000"
   ]
  },
  {
   "cell_type": "code",
   "execution_count": 23,
   "metadata": {},
   "outputs": [
    {
     "data": {
      "text/plain": [
       "500500"
      ]
     },
     "execution_count": 23,
     "metadata": {},
     "output_type": "execute_result"
    }
   ],
   "source": [
    "s = 0\n",
    "for i in range(1000+1):\n",
    "    s = s+i\n",
    "s"
   ]
  },
  {
   "cell_type": "markdown",
   "metadata": {},
   "source": [
    "- To find sum from 0 to 1000 (only even)"
   ]
  },
  {
   "cell_type": "code",
   "execution_count": 24,
   "metadata": {},
   "outputs": [
    {
     "data": {
      "text/plain": [
       "(250500, 250500)"
      ]
     },
     "execution_count": 24,
     "metadata": {},
     "output_type": "execute_result"
    }
   ],
   "source": [
    "s = 0\n",
    "LE = []\n",
    "for i in range(1001):\n",
    "    if i%2 ==0:\n",
    "        LE.append(i)\n",
    "        s = s+i\n",
    "s, sum(LE)"
   ]
  },
  {
   "cell_type": "markdown",
   "metadata": {},
   "source": [
    "### References:\n",
    "1. https://docs.python.org/3/tutorial/index.html"
   ]
  },
  {
   "cell_type": "markdown",
   "metadata": {},
   "source": [
    "--------"
   ]
  }
 ],
 "metadata": {
  "kernelspec": {
   "display_name": "Python 3",
   "language": "python",
   "name": "python3"
  },
  "language_info": {
   "codemirror_mode": {
    "name": "ipython",
    "version": 3
   },
   "file_extension": ".py",
   "mimetype": "text/x-python",
   "name": "python",
   "nbconvert_exporter": "python",
   "pygments_lexer": "ipython3",
   "version": "3.7.3"
  }
 },
 "nbformat": 4,
 "nbformat_minor": 2
}
