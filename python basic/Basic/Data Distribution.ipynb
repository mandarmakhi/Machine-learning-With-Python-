{
 "cells": [
  {
   "cell_type": "markdown",
   "metadata": {},
   "source": [
    "# Data Distribution\n",
    "Earlier in this tutorial we have worked with very small amounts of data in our examples, just to understand the different concepts.\n",
    "\n",
    "In the real world, the data sets are much bigger, but it can be difficult to gather real world data, at least at an early stage of a project.\n",
    "\n",
    "How Can we Get Big Data Sets?\n",
    "To create big data sets for testing, we use the Python module NumPy, which comes with a number of methods to create random data sets, of any size."
   ]
  },
  {
   "cell_type": "code",
   "execution_count": 1,
   "metadata": {},
   "outputs": [
    {
     "name": "stdout",
     "output_type": "stream",
     "text": [
      "[4.87150653 3.94021251 2.3140822  4.10272947 3.16946937 0.66608643\n",
      " 1.54799756 4.50439302 1.40717694 3.37910837 1.95527032 3.97854263\n",
      " 1.8979691  3.91528686 3.73857489 2.63152045 0.84010189 4.76186314\n",
      " 4.32659585 0.42761909 2.27099503 1.4805964  2.15231537 4.06136819\n",
      " 2.79480658 2.60221738 0.19387279 1.63028188 1.68395541 3.20034876\n",
      " 2.04211425 4.74226027 0.8604929  4.40958607 0.44591516 1.1985644\n",
      " 1.77847742 0.55363978 4.53019143 4.82487383 4.46328868 3.8634633\n",
      " 0.80958378 2.85824281 0.34777651 3.531286   3.85395085 0.056247\n",
      " 3.26724427 1.9505552  3.0969129  3.83407657 2.51643445 0.35061712\n",
      " 1.21966555 4.20728207 4.11802682 3.62305483 2.23188282 0.64227848\n",
      " 2.94756109 0.94129055 1.28282665 4.92043905 0.94990819 2.40293047\n",
      " 4.55825192 0.86181448 2.55435706 1.69919443 2.91709696 1.42152308\n",
      " 3.23164451 3.93999709 3.24304394 0.61826937 1.9868524  0.30523839\n",
      " 0.68367906 0.52599924 0.7849104  2.60680863 1.81235691 0.54056925\n",
      " 2.71903227 4.29956435 0.52032368 4.70924814 1.0399844  3.72221319\n",
      " 1.3495726  0.28340769 3.07857241 3.82821429 2.00161023 1.87865404\n",
      " 2.6357744  4.2827546  4.90168963 1.89067689 1.96614654 3.91137973\n",
      " 1.50124462 2.07709473 4.7331841  4.60749572 4.02750118 1.41671118\n",
      " 4.84709006 1.40762854 0.83193625 2.71544836 1.10374029 2.44354648\n",
      " 1.85329791 3.69328941 4.39422172 1.23020317 3.66682972 1.9353401\n",
      " 1.35817599 4.92133903 0.78473869 0.10769394 3.34676309 2.20118986\n",
      " 1.83495907 4.53880957 1.32914668 1.25463271 3.70180109 4.08708225\n",
      " 3.83735045 0.60499139 2.07098768 4.47588578 2.64931537 0.9123086\n",
      " 4.11617474 0.42883808 1.45032101 2.07232858 3.02603765 0.63267008\n",
      " 4.43309058 0.23429697 2.19486529 4.2489707  3.67315318 3.59314389\n",
      " 4.90236333 2.2979323  1.01484361 3.41669834 0.86237002 1.14804036\n",
      " 4.72329373 4.8316213  1.66037827 2.95520125 3.96120576 3.72771518\n",
      " 1.48084087 4.58490503 3.49929611 4.69496897 1.09358738 1.69614234\n",
      " 1.17644547 4.16466217 0.7245769  3.84816833 4.20530597 2.91989213\n",
      " 1.22161138 2.75132779 1.63238392 2.17343665 3.54295605 3.8822089\n",
      " 0.11439409 1.38500158 4.75607481 1.98884748 4.83308304 1.92136555\n",
      " 1.0204761  4.86470598 0.82607533 3.16408727 3.96124518 4.00208914\n",
      " 1.87286841 4.64916819 1.02143173 3.0767634  2.15302752 4.40491142\n",
      " 3.96478918 3.14457234 3.29102661 1.75065835 4.00259184 2.71581071\n",
      " 2.39491633 4.43217843 0.47242467 3.78347084 4.10422055 3.08907407\n",
      " 1.92271588 3.70324175 3.62023101 3.38408485 1.27778245 4.50904022\n",
      " 4.42076219 2.51142062 0.7772304  4.04858192 0.17348953 4.79378603\n",
      " 0.96943448 0.54930129 1.91843545 4.93889013 3.64329223 2.616357\n",
      " 2.44956034 4.80258407 3.36414782 3.61670918 0.81336952 0.92210243\n",
      " 2.13271492 3.62923142 2.99674058 2.31020007 2.01420659 4.1530579\n",
      " 0.77252691 1.79731879 4.66944763 0.0461991  2.0470877  2.80937077\n",
      " 0.65715971 4.39373256 3.60736049 2.09480782]\n"
     ]
    }
   ],
   "source": [
    "import numpy\n",
    "\n",
    "x = numpy.random.uniform(0.0, 5.0, 250)\n",
    "\n",
    "print(x)"
   ]
  },
  {
   "cell_type": "markdown",
   "metadata": {},
   "source": [
    "# Histogram\n",
    "To visualize the data set we can draw a histogram with the data we collected.\n",
    "\n",
    "We will use the Python module Matplotlib to draw a histogram.\n",
    "\n",
    "Learn about the Matplotlib module in our Matplotlib Tutorial."
   ]
  },
  {
   "cell_type": "code",
   "execution_count": 2,
   "metadata": {},
   "outputs": [
    {
     "data": {
      "image/png": "[encoded data removed]",
      "text/plain": [
       "<Figure size 432x288 with 1 Axes>"
      ]
     },
     "metadata": {
      "needs_background": "light"
     },
     "output_type": "display_data"
    }
   ],
   "source": [
    "import numpy\n",
    "import matplotlib.pyplot as plt\n",
    "\n",
    "x = numpy.random.uniform(0.0, 5.0, 250)\n",
    "\n",
    "plt.hist(x, 5)\n",
    "plt.show()"
   ]
  },
  {
   "cell_type": "code",
   "execution_count": 3,
   "metadata": {},
   "outputs": [
    {
     "data": {
      "image/png": "[encoded data removed]",
      "text/plain": [
       "<Figure size 432x288 with 1 Axes>"
      ]
     },
     "metadata": {
      "needs_background": "light"
     },
     "output_type": "display_data"
    }
   ],
   "source": [
    "import numpy\n",
    "import matplotlib.pyplot as plt\n",
    "\n",
    "x = numpy.random.uniform(0.0, 5.0, 100000)\n",
    "\n",
    "plt.hist(x, 100)\n",
    "plt.show()"
   ]
  },
  {
   "cell_type": "code",
   "execution_count": null,
   "metadata": {},
   "outputs": [],
   "source": []
  }
 ],
 "metadata": {
  "kernelspec": {
   "display_name": "Python 3",
   "language": "python",
   "name": "python3"
  },
  "language_info": {
   "codemirror_mode": {
    "name": "ipython",
    "version": 3
   },
   "file_extension": ".py",
   "mimetype": "text/x-python",
   "name": "python",
   "nbconvert_exporter": "python",
   "pygments_lexer": "ipython3",
   "version": "3.8.3"
  }
 },
 "nbformat": 4,
 "nbformat_minor": 4
}
