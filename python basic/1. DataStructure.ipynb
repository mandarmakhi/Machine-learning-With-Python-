{
 "cells": [
  {
   "cell_type": "markdown",
   "metadata": {},
   "source": [
    "## Mini  Assignment:\n",
    "Create a DNA string of 10,000 characters and count the following: A,T,G,C,all combination of two charaters, all combinations of three characters.\n",
    "\n",
    "**Author: Bhogendra Kathayat,**\n",
    "PhD student\n",
    "CDP, TU"
   ]
  },
  {
   "cell_type": "code",
   "execution_count": 12,
   "metadata": {},
   "outputs": [],
   "source": [
    "import random as rn\n",
    "d = ['A','T','G','C']                                # List of  Characters\n",
    "D = [rn.choice(d) for i in range(10000)]             # Forming a big list of size 10000 from the elements of previous list\n",
    "DNA = ''.join(D)                                     # Joining the string elements inside a list"
   ]
  },
  {
   "cell_type": "markdown",
   "metadata": {},
   "source": [
    "## Solution:"
   ]
  },
  {
   "cell_type": "markdown",
   "metadata": {},
   "source": [
    "#### 1. Counting individual characters in DNA"
   ]
  },
  {
   "cell_type": "code",
   "execution_count": 14,
   "metadata": {},
   "outputs": [
    {
     "name": "stdout",
     "output_type": "stream",
     "text": [
      "{'A': 2522, 'C': 2470, 'T': 2508, 'G': 2500}\n"
     ]
    }
   ],
   "source": [
    "count = {i: DNA.count(i) for i in D}\n",
    "print(count)"
   ]
  },
  {
   "cell_type": "markdown",
   "metadata": {},
   "source": [
    "#### 2. Counting combination of Two Characters in the DNA"
   ]
  },
  {
   "cell_type": "code",
   "execution_count": 10,
   "metadata": {},
   "outputs": [
    {
     "name": "stdout",
     "output_type": "stream",
     "text": [
      "{'AT': 609, 'AG': 602, 'AC': 650, 'TG': 616, 'TC': 652, 'GC': 625}\n"
     ]
    }
   ],
   "source": [
    "from itertools import combinations\n",
    "comb = list(combinations(d,2))                     # Forming a list of tuples of all possible combinations of two characters     \n",
    "join = [''.join(tups) for tups in comb]            # Joining the strings inside each tuple\n",
    "count = {i: DNA.count(i) for i in join}            # Counting all such DNA with two characters\n",
    "print(count)"
   ]
  },
  {
   "cell_type": "markdown",
   "metadata": {},
   "source": [
    "#### 3. Counting combination of Three Characters in the DNA"
   ]
  },
  {
   "cell_type": "code",
   "execution_count": 11,
   "metadata": {},
   "outputs": [
    {
     "name": "stdout",
     "output_type": "stream",
     "text": [
      "{'ATG': 165, 'ATC': 144, 'AGC': 152, 'TGC': 161}\n"
     ]
    }
   ],
   "source": [
    "from itertools import combinations\n",
    "comb = list(combinations(d,3))                     # Forming a list of tuples of all possible combinations of three characters     \n",
    "join = [''.join(tups) for tups in comb]            # Joining the strings inside each tuple\n",
    "count = {i: DNA.count(i) for i in join}            # Counting all such DNA with three characters\n",
    "print(count)"
   ]
  }
 ],
 "metadata": {
  "kernelspec": {
   "display_name": "Python 3",
   "language": "python",
   "name": "python3"
  },
  "language_info": {
   "codemirror_mode": {
    "name": "ipython",
    "version": 3
   },
   "file_extension": ".py",
   "mimetype": "text/x-python",
   "name": "python",
   "nbconvert_exporter": "python",
   "pygments_lexer": "ipython3",
   "version": "3.7.3"
  }
 },
 "nbformat": 4,
 "nbformat_minor": 4
}
