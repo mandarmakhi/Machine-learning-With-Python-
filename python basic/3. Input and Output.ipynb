{
 "cells": [
  {
   "cell_type": "markdown",
   "metadata": {},
   "source": [
    "## Input and Output"
   ]
  },
  {
   "cell_type": "code",
   "execution_count": 6,
   "metadata": {},
   "outputs": [],
   "source": [
    "import json as json\n",
    "import pandas as pd\n",
    "import numpy as np\n",
    "import matplotlib.pyplot as plt\n",
    "import random as random\n",
    "%matplotlib inline"
   ]
  },
  {
   "cell_type": "code",
   "execution_count": 1,
   "metadata": {},
   "outputs": [],
   "source": [
    "#mkdir newfolder"
   ]
  },
  {
   "cell_type": "markdown",
   "metadata": {},
   "source": [
    "### Txt file"
   ]
  },
  {
   "cell_type": "markdown",
   "metadata": {},
   "source": [
    "- ```with open ()``` method"
   ]
  },
  {
   "cell_type": "code",
   "execution_count": 17,
   "metadata": {},
   "outputs": [
    {
     "name": "stderr",
     "output_type": "stream",
     "text": [
      "A subdirectory or file data already exists.\n"
     ]
    }
   ],
   "source": [
    "mkdir data"
   ]
  },
  {
   "cell_type": "code",
   "execution_count": 2,
   "metadata": {},
   "outputs": [],
   "source": [
    "with open('data/test.txt', 'w')as file:\n",
    "    for k in range(100):\n",
    "        file.write(\"it is your \"+ str(k) + \"th turn! \\n\")"
   ]
  },
  {
   "cell_type": "markdown",
   "metadata": {},
   "source": [
    "- ```open()``` and ```close()``` method"
   ]
  },
  {
   "cell_type": "code",
   "execution_count": 3,
   "metadata": {},
   "outputs": [],
   "source": [
    "txtfile = open(\"data/textdata.txt\",'w')"
   ]
  },
  {
   "cell_type": "code",
   "execution_count": 4,
   "metadata": {},
   "outputs": [],
   "source": [
    "for i in range (1000):\n",
    "    '''check even or odd'''\n",
    "    if i%2 ==0:\n",
    "        txtfile.write(str(i) + \"|It is even \\n\")\n",
    "        \n",
    "        '''check above or below 500'''\n",
    "        if i<500:\n",
    "            txtfile.write(str(i) + \"|It is below 500 \\n\")\n",
    "        else:\n",
    "            txtfile.write(str(i) + \"|It is above 500 \\n\")\n",
    "            \n",
    "    else:\n",
    "        txtfile.write(str(i) + \"|It is odd \\n\")\n",
    "        \n",
    "        '''check above or below 500'''\n",
    "        if i<500:\n",
    "            txtfile.write(str(i) + \"|It is below 500 \\n\")\n",
    "        else:\n",
    "            txtfile.write(str(i) + \"|It is above 500 \\n\")\n",
    "            \n",
    "txtfile.close()"
   ]
  },
  {
   "cell_type": "markdown",
   "metadata": {},
   "source": [
    "- uploading/reading text file"
   ]
  },
  {
   "cell_type": "code",
   "execution_count": 13,
   "metadata": {},
   "outputs": [
    {
     "name": "stdout",
     "output_type": "stream",
     "text": [
      "0|It is even \n",
      "\n",
      "0|It is below 500 \n",
      "\n",
      "1|It is odd \n",
      "\n",
      "1|It is below 500 \n",
      "\n",
      "2|It is even \n",
      "\n",
      "2|It is below 500 \n",
      "\n",
      "3|It is odd \n",
      "\n",
      "3|It is below 500 \n",
      "\n",
      "4|It is even \n",
      "\n",
      "4|It is below 500 \n",
      "\n",
      "5|It is odd \n",
      "\n",
      "5|It is below 500 \n",
      "\n"
     ]
    }
   ],
   "source": [
    "with open('data/textdata.txt','r') as f:\n",
    "    i = 0\n",
    "    for line in f:\n",
    "        print(line)\n",
    "        if i >10:\n",
    "            break\n",
    "        i = i+1"
   ]
  },
  {
   "cell_type": "markdown",
   "metadata": {},
   "source": [
    "### JSON file"
   ]
  },
  {
   "cell_type": "code",
   "execution_count": 11,
   "metadata": {},
   "outputs": [],
   "source": [
    "Data = []\n",
    "for k in range(1000):\n",
    "    Data.append({\"x\": np.random.uniform(0,10),\\\n",
    "        \"y\": np.random.uniform(0,20),\\\n",
    "        \"z\" : np.random.uniform(0,10)})"
   ]
  },
  {
   "cell_type": "code",
   "execution_count": 12,
   "metadata": {},
   "outputs": [
    {
     "data": {
      "text/plain": [
       "[{'x': 6.1054636810164595, 'y': 3.2863675264349634, 'z': 8.384891787980322},\n",
       " {'x': 7.069985836956237, 'y': 0.17988344698211423, 'z': 9.975981385348762},\n",
       " {'x': 2.7021265268361416, 'y': 9.729258889243164, 'z': 9.894201832125768},\n",
       " {'x': 6.418458045982539, 'y': 12.858408084598345, 'z': 5.91904399119246}]"
      ]
     },
     "execution_count": 12,
     "metadata": {},
     "output_type": "execute_result"
    }
   ],
   "source": [
    "Data[101:105]"
   ]
  },
  {
   "cell_type": "markdown",
   "metadata": {},
   "source": [
    "- Save data to a JSON file"
   ]
  },
  {
   "cell_type": "code",
   "execution_count": 1,
   "metadata": {},
   "outputs": [
    {
     "name": "stderr",
     "output_type": "stream",
     "text": [
      "A subdirectory or file data already exists.\n"
     ]
    }
   ],
   "source": [
    "mkdir data"
   ]
  },
  {
   "cell_type": "code",
   "execution_count": 14,
   "metadata": {},
   "outputs": [],
   "source": [
    "with open(\"data/sample_data.json\", 'w')as f:\n",
    "    json.dump(Data,f)"
   ]
  },
  {
   "cell_type": "markdown",
   "metadata": {},
   "source": [
    "- Upload data from JSON file"
   ]
  },
  {
   "cell_type": "code",
   "execution_count": 15,
   "metadata": {},
   "outputs": [],
   "source": [
    "with open(\"data/sample_data.json\",\"r\")as f:\n",
    "    uploaded_data = json.load(f)"
   ]
  },
  {
   "cell_type": "code",
   "execution_count": 16,
   "metadata": {},
   "outputs": [
    {
     "data": {
      "text/plain": [
       "[{'x': 0.6982478944780635, 'y': 1.126719593276797, 'z': 0.4844149246453111},\n",
       " {'x': 9.508377504777027, 'y': 15.488536320226022, 'z': 2.7307796829523037}]"
      ]
     },
     "execution_count": 16,
     "metadata": {},
     "output_type": "execute_result"
    }
   ],
   "source": [
    "uploaded_data[0:2]"
   ]
  },
  {
   "cell_type": "markdown",
   "metadata": {},
   "source": [
    "### CSV file"
   ]
  },
  {
   "cell_type": "code",
   "execution_count": 18,
   "metadata": {},
   "outputs": [
    {
     "data": {
      "text/html": [
       "<div>\n",
       "<style scoped>\n",
       "    .dataframe tbody tr th:only-of-type {\n",
       "        vertical-align: middle;\n",
       "    }\n",
       "\n",
       "    .dataframe tbody tr th {\n",
       "        vertical-align: top;\n",
       "    }\n",
       "\n",
       "    .dataframe thead th {\n",
       "        text-align: right;\n",
       "    }\n",
       "</style>\n",
       "<table border=\"1\" class=\"dataframe\">\n",
       "  <thead>\n",
       "    <tr style=\"text-align: right;\">\n",
       "      <th></th>\n",
       "      <th>x</th>\n",
       "      <th>y</th>\n",
       "      <th>z</th>\n",
       "    </tr>\n",
       "  </thead>\n",
       "  <tbody>\n",
       "    <tr>\n",
       "      <th>0</th>\n",
       "      <td>0.698248</td>\n",
       "      <td>1.126720</td>\n",
       "      <td>0.484415</td>\n",
       "    </tr>\n",
       "    <tr>\n",
       "      <th>1</th>\n",
       "      <td>9.508378</td>\n",
       "      <td>15.488536</td>\n",
       "      <td>2.730780</td>\n",
       "    </tr>\n",
       "    <tr>\n",
       "      <th>2</th>\n",
       "      <td>7.248392</td>\n",
       "      <td>1.646036</td>\n",
       "      <td>5.782741</td>\n",
       "    </tr>\n",
       "    <tr>\n",
       "      <th>3</th>\n",
       "      <td>5.829758</td>\n",
       "      <td>4.888937</td>\n",
       "      <td>7.824382</td>\n",
       "    </tr>\n",
       "    <tr>\n",
       "      <th>4</th>\n",
       "      <td>3.174409</td>\n",
       "      <td>19.844952</td>\n",
       "      <td>4.117781</td>\n",
       "    </tr>\n",
       "  </tbody>\n",
       "</table>\n",
       "</div>"
      ],
      "text/plain": [
       "          x          y         z\n",
       "0  0.698248   1.126720  0.484415\n",
       "1  9.508378  15.488536  2.730780\n",
       "2  7.248392   1.646036  5.782741\n",
       "3  5.829758   4.888937  7.824382\n",
       "4  3.174409  19.844952  4.117781"
      ]
     },
     "execution_count": 18,
     "metadata": {},
     "output_type": "execute_result"
    }
   ],
   "source": [
    "DF = pd.DataFrame(Data)\n",
    "DF.head()"
   ]
  },
  {
   "cell_type": "markdown",
   "metadata": {},
   "source": [
    "- Save data to a CSV file"
   ]
  },
  {
   "cell_type": "code",
   "execution_count": 19,
   "metadata": {},
   "outputs": [],
   "source": [
    "DF.to_csv(\"data/sampledata.csv\")"
   ]
  },
  {
   "cell_type": "markdown",
   "metadata": {},
   "source": [
    "- Upload data from a CSV file"
   ]
  },
  {
   "cell_type": "code",
   "execution_count": 20,
   "metadata": {},
   "outputs": [],
   "source": [
    "uploaded_data = pd.read_csv(\"data/sampledata.csv\")"
   ]
  },
  {
   "cell_type": "code",
   "execution_count": 21,
   "metadata": {},
   "outputs": [
    {
     "data": {
      "text/html": [
       "<div>\n",
       "<style scoped>\n",
       "    .dataframe tbody tr th:only-of-type {\n",
       "        vertical-align: middle;\n",
       "    }\n",
       "\n",
       "    .dataframe tbody tr th {\n",
       "        vertical-align: top;\n",
       "    }\n",
       "\n",
       "    .dataframe thead th {\n",
       "        text-align: right;\n",
       "    }\n",
       "</style>\n",
       "<table border=\"1\" class=\"dataframe\">\n",
       "  <thead>\n",
       "    <tr style=\"text-align: right;\">\n",
       "      <th></th>\n",
       "      <th>Unnamed: 0</th>\n",
       "      <th>x</th>\n",
       "      <th>y</th>\n",
       "      <th>z</th>\n",
       "    </tr>\n",
       "  </thead>\n",
       "  <tbody>\n",
       "    <tr>\n",
       "      <th>0</th>\n",
       "      <td>0</td>\n",
       "      <td>0.698248</td>\n",
       "      <td>1.126720</td>\n",
       "      <td>0.484415</td>\n",
       "    </tr>\n",
       "    <tr>\n",
       "      <th>1</th>\n",
       "      <td>1</td>\n",
       "      <td>9.508378</td>\n",
       "      <td>15.488536</td>\n",
       "      <td>2.730780</td>\n",
       "    </tr>\n",
       "    <tr>\n",
       "      <th>2</th>\n",
       "      <td>2</td>\n",
       "      <td>7.248392</td>\n",
       "      <td>1.646036</td>\n",
       "      <td>5.782741</td>\n",
       "    </tr>\n",
       "    <tr>\n",
       "      <th>3</th>\n",
       "      <td>3</td>\n",
       "      <td>5.829758</td>\n",
       "      <td>4.888937</td>\n",
       "      <td>7.824382</td>\n",
       "    </tr>\n",
       "    <tr>\n",
       "      <th>4</th>\n",
       "      <td>4</td>\n",
       "      <td>3.174409</td>\n",
       "      <td>19.844952</td>\n",
       "      <td>4.117781</td>\n",
       "    </tr>\n",
       "  </tbody>\n",
       "</table>\n",
       "</div>"
      ],
      "text/plain": [
       "   Unnamed: 0         x          y         z\n",
       "0           0  0.698248   1.126720  0.484415\n",
       "1           1  9.508378  15.488536  2.730780\n",
       "2           2  7.248392   1.646036  5.782741\n",
       "3           3  5.829758   4.888937  7.824382\n",
       "4           4  3.174409  19.844952  4.117781"
      ]
     },
     "execution_count": 21,
     "metadata": {},
     "output_type": "execute_result"
    }
   ],
   "source": [
    "uploaded_data.head()"
   ]
  },
  {
   "cell_type": "code",
   "execution_count": null,
   "metadata": {},
   "outputs": [],
   "source": []
  },
  {
   "cell_type": "code",
   "execution_count": null,
   "metadata": {},
   "outputs": [],
   "source": []
  }
 ],
 "metadata": {
  "kernelspec": {
   "display_name": "Python 3",
   "language": "python",
   "name": "python3"
  },
  "language_info": {
   "codemirror_mode": {
    "name": "ipython",
    "version": 3
   },
   "file_extension": ".py",
   "mimetype": "text/x-python",
   "name": "python",
   "nbconvert_exporter": "python",
   "pygments_lexer": "ipython3",
   "version": "3.7.3"
  }
 },
 "nbformat": 4,
 "nbformat_minor": 2
}
