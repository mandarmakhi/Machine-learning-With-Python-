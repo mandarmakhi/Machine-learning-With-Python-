{
 "cells": [
  {
   "cell_type": "markdown",
   "metadata": {},
   "source": [
    "# What is  TensorFlow Package ?\n",
    "\n",
    "\n",
    "TensorFlow is a library for high-performance numerical computations with around 35,000 comments and a vibrant community of about 1,500 contributors. It’s used across various scientific fields. TensorFlow is a framework for defining and running computations that involve tensors, which are partially defined computational objects that eventually produce a value.\n",
    "\n",
    "#### Features:\n",
    "\n",
    "● Better computational graph visualizations\n",
    "\n",
    "● Reduces error by 50 to 60 percent in neural machine learning\n",
    "\n",
    "● Parallel computing to execute complex models\n",
    "\n",
    "● Seamless library management backed by Google\n",
    "\n",
    "● Quicker updates and frequent new releases to provide you with the latest features\n",
    "\n",
    "\n",
    "### TensorFlow is particularly useful for the following applications:\n",
    "\n",
    "● Speech and image recognition\n",
    "\n",
    "● Text-based applications\n",
    "\n",
    "● Time-series analysis\n",
    "\n",
    "● Video detection"
   ]
  },
  {
   "cell_type": "markdown",
   "metadata": {},
   "source": [
    "# TensorFlow APIs\n",
    "\n",
    "TensorFlow provides multiple APIs (Application Programming Interfaces). These can be classified into 2 major categories:\n",
    "\n",
    "#### 1. Low level API:\n",
    "●complete programming control\n",
    "\n",
    "●recommended for machine learning researchers\n",
    "\n",
    "●provides fine levels of control over the models\n",
    "\n",
    "●TensorFlow Core is the low level API of TensorFlow.\n",
    "\n",
    "#### 2. High level API:\n",
    "\n",
    "● built on top of TensorFlow Core\n",
    "\n",
    "● easier to learn and use than TensorFlow Core\n",
    "\n",
    "● make repetitive tasks easier and more consistent between different users\n",
    "\n",
    "● tf.contrib.learn is an example of a high level API.\n",
    "\n",
    "we first discuss the basics of TensorFlow Core and then explore the higher level API, tf.contrib.learn.\n",
    "\n",
    "## TensorFlow Core\n",
    "\n",
    "\n",
    "### 1. Installing TensorFlow\n",
    "\n",
    "An easy to follow guide for TensorFlow installation is available here:\n",
    "Installing TensorFlow.\n",
    "\n",
    "Once installed, you can ensure a successful installation by running this command in python interpreter:\n",
    "\n",
    "## import tensorflow as tf\n",
    "\n",
    "\n",
    "### 2. The Computational Graph\n",
    "\n",
    "Any TensorFlow Core program can be divided into two discrete sections:\n",
    "\n",
    "● Building the computational graph.A computational graph is nothing but a series of TensorFlow operations arranged into a graph of nodes.\n",
    "\n",
    "● Running the computational graph.To actually evaluate the nodes, we must run the computational graph within a session. A session encapsulates the control and state of the TensorFlow runtime."
   ]
  },
  {
   "cell_type": "code",
   "execution_count": null,
   "metadata": {},
   "outputs": [],
   "source": [
    "# importing tensorflow \n",
    "import tensorflow as tf"
   ]
  },
  {
   "cell_type": "code",
   "execution_count": null,
   "metadata": {},
   "outputs": [],
   "source": [
    "# creating nodes in computation graph \n",
    "node1 = tf.constant(3, dtype=tf.int32) \n",
    "node2 = tf.constant(5, dtype=tf.int32) \n",
    "node3 = tf.add(node1, node2) "
   ]
  },
  {
   "cell_type": "code",
   "execution_count": null,
   "metadata": {},
   "outputs": [],
   "source": [
    "# create tensorflow session object \n",
    "sess = tf.Session() \n",
    "  \n",
    "# evaluating node3 and printing the result \n",
    "print(\"Sum of node1 and node2 is:\",sess.run(node3)) \n",
    "  \n",
    "# closing the session \n",
    "sess.close()"
   ]
  }
 ],
 "metadata": {
  "kernelspec": {
   "display_name": "Python 3",
   "language": "python",
   "name": "python3"
  },
  "language_info": {
   "codemirror_mode": {
    "name": "ipython",
    "version": 3
   },
   "file_extension": ".py",
   "mimetype": "text/x-python",
   "name": "python",
   "nbconvert_exporter": "python",
   "pygments_lexer": "ipython3",
   "version": "3.8.3"
  }
 },
 "nbformat": 4,
 "nbformat_minor": 4
}
