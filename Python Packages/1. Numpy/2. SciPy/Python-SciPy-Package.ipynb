{
 "cells": [
  {
   "cell_type": "markdown",
   "metadata": {},
   "source": [
    "# What is SciPy?\n",
    "\n",
    "SciPy is an open-source Python library which is used to solve scientific and mathematical problems. It is built on the NumPy extension and allows the user to manipulate and visualize data with a wide range of high-level commands. As mentioned earlier, SciPy builds on NumPy and therefore if you import SciPy, there is no need to import NumPy.\n",
    "\n",
    "## NumPy vs SciPy\n",
    "\n",
    "Both NumPy and SciPy are Python libraries used for used mathematical and numerical analysis. NumPy contains array data and basic operations such as sorting, indexing, etc whereas, SciPy consists of all the numerical code. Though NumPy provides a number of functions that can help resolve linear algebra, Fourier transforms, etc, SciPy is the library that actually contains fully-featured versions of these functions along with many others. However, if you are doing scientific analysis using Python, you will need to install both NumPy and SciPy since SciPy builds on NumPy."
   ]
  },
  {
   "cell_type": "markdown",
   "metadata": {},
   "source": [
    "## Subpackages in SciPy:\n",
    "SciPy has a number of subpackages for various scientific computations :\n",
    "\n",
    "Name →\tDescription\n",
    "\n",
    "cluster →\tClustering algorithms\n",
    "\n",
    "constants →\tPhysical and mathematical constants\n",
    "\n",
    "fftpack  →\tFast Fourier Transform routines\n",
    "\n",
    "integrate →\tIntegration and ordinary differential equation solvers\n",
    "\n",
    "interpolate →\tInterpolation and smoothing splines\n",
    "\n",
    "io →\tInput and Output\n",
    "\n",
    "linalg →\tLinear algebra\n",
    "\n",
    "ndimage →\tN-dimensional image processing\n",
    "\n",
    "odr →\tOrthogonal distance regression\n",
    "\n",
    "optimize →\tOptimization and root-finding routines\n",
    "\n",
    "signal →\tSignal processing\n",
    "\n",
    "sparse →\tSparse matrices and associated routines\n",
    "\n",
    "spatial →\tSpatial data structures and algorithms\n",
    "\n",
    "special →\tSpecial functions\n",
    "\n",
    "stats →\tStatistical distributions and functions"
   ]
  },
  {
   "cell_type": "markdown",
   "metadata": {},
   "source": [
    "### The benefit of using SciPy library in Python while making ML models is that it also makes a strong programming language available for use in developing less complex programs and applications."
   ]
  },
  {
   "cell_type": "code",
   "execution_count": null,
   "metadata": {},
   "outputs": [],
   "source": [
    "# import numpy library \n",
    "import numpy as np \n",
    "A = np.array([[1,2,3],[4,5,6],[7,8,8]])"
   ]
  },
  {
   "cell_type": "markdown",
   "metadata": {},
   "source": [
    "### Linear Algebra\n",
    "\n",
    "\n",
    "#### 1.Determinant of a Matrix"
   ]
  },
  {
   "cell_type": "code",
   "execution_count": null,
   "metadata": {},
   "outputs": [],
   "source": [
    "\n",
    "# importing linalg function from scipy \n",
    "from scipy import linalg \n",
    "  \n",
    "# Compute the determinant of a matrix \n",
    "linalg.det(A) "
   ]
  },
  {
   "cell_type": "markdown",
   "metadata": {},
   "source": [
    "#### 2. Compute pivoted LU decomposition of a matrix\n",
    "LU decomposition is a method that reduce matrix into constituent parts that helps in easier calculation of complex matrix operations. The decomposition methods are also called matrix factorization methods, are base of linear algebra in computers, even for basic operations such as solving systems of linear equations, calculating the inverse, and calculating the determinant of a matrix.\n",
    "The decomposition is:\n",
    "A = P L U\n",
    " P is a permutation matrix\n",
    " L lower triangular with unit diagonal elements\n",
    " U upper triangular"
   ]
  },
  {
   "cell_type": "code",
   "execution_count": null,
   "metadata": {},
   "outputs": [],
   "source": [
    "P, L, U = linalg.lu(A) \n",
    "print(P) \n",
    "print(L) \n",
    "print(U) \n",
    "# print LU decomposition \n",
    "print(np.dot(L,U))"
   ]
  },
  {
   "cell_type": "markdown",
   "metadata": {},
   "source": [
    "### 3. Eigen values and eigen vectors of this matrix\n"
   ]
  },
  {
   "cell_type": "code",
   "execution_count": null,
   "metadata": {},
   "outputs": [],
   "source": [
    "eigen_values, eigen_vectors = linalg.eig(A) \n",
    "print(eigen_values) \n",
    "print(eigen_vectors)"
   ]
  },
  {
   "cell_type": "markdown",
   "metadata": {},
   "source": [
    "### 4. Solving systems of linear equations can also be done"
   ]
  },
  {
   "cell_type": "code",
   "execution_count": null,
   "metadata": {},
   "outputs": [],
   "source": [
    "v = np.array([[2],[3],[5]]) \n",
    "print(v) \n",
    "s = linalg.solve(A,v) \n",
    "print(s)"
   ]
  },
  {
   "cell_type": "markdown",
   "metadata": {},
   "source": [
    "### Sparse Linear Algebra\n",
    "SciPy has some routines for computing with sparse and potentially very large matrices. The necessary tools are in the  submodule scipy.sparse.\n",
    "Lets look on how to construct a large sparse matrix:"
   ]
  },
  {
   "cell_type": "code",
   "execution_count": null,
   "metadata": {},
   "outputs": [],
   "source": [
    "# import necessary modules \n",
    "from scipy import sparse \n",
    "# Row-based linked list sparse matrix \n",
    "A = sparse.lil_matrix((1000, 1000)) \n",
    "print(A) \n",
    "\n",
    "A[0,:100] = np.random.rand(100) \n",
    "A[1,100:200] = A[0,:100] \n",
    "A.setdiag(np.random.rand(1000)) \n",
    "print(A) \n"
   ]
  },
  {
   "cell_type": "markdown",
   "metadata": {},
   "source": [
    "#### 1.Linear Algebra for Sparse Matrices"
   ]
  },
  {
   "cell_type": "code",
   "execution_count": null,
   "metadata": {},
   "outputs": [],
   "source": [
    "from scipy.sparse import linalg \n",
    "\n",
    "# Convert this matrix to Compressed Sparse Row format. \n",
    "A.tocsr() \n",
    "\n",
    "A = A.tocsr() \n",
    "b = np.random.rand(1000) \n",
    "ans = linalg.spsolve(A, b) \n",
    "# it will print ans array of 1000 size \n",
    "print(ans) \n"
   ]
  },
  {
   "cell_type": "markdown",
   "metadata": {},
   "source": [
    "#### Integration\n",
    "When a function is very difficult to integrate analytically, one simply find a solution through numerical integration methods. SciPy has a capability for doing numerical integration also. Scipy has integration methods in scipy.integrate module. "
   ]
  },
  {
   "cell_type": "markdown",
   "metadata": {},
   "source": [
    "### 1.Single Integrals\n",
    "The Quad routine is the important function out of SciPy’s integration functions. If integration in over f(x) function where x ranges from a to b, then integral looks like this.\n",
    "                                       \n",
    "The parameters of quad is scipy.integrate.quad(f, a, b), Where ‘f’ is the function to be integrated. Whereas, ‘a’ and ‘b’ are the lower and upper ranges of x limit. Let us see an example of integrating  over the range of 0 and 1 with respect to dx.\n",
    "We will first define the function f(x)=e^(-x^2) , this is done using a lambda expression and then use quad routine."
   ]
  },
  {
   "cell_type": "code",
   "execution_count": null,
   "metadata": {},
   "outputs": [],
   "source": [
    "import scipy.integrate \n",
    "f= lambda x:np.exp(-x**2) \n",
    "# print results \n",
    "i = scipy.integrate.quad(f, 0, 1) \n",
    "print(i) \n"
   ]
  },
  {
   "cell_type": "markdown",
   "metadata": {},
   "source": [
    "The quad function returns the two values, in which the first number is the value of integral and the second value is the probable error in the value of integral.\n",
    "\n",
    "### 2. Double Integrals\n",
    "The parameters of dblquad function is scipy.integrate.dblquad(f, a, b, g, h). Where, ‘f’ is the function to be integrated, ‘a’ and ‘b’ are the lower and upper ranges of the x variable, respectively, while ‘g’ and ‘h’ are the functions that tells the lower and upper limits of y variable.\n",
    "As an example, let us perform the double integral of x*y^2 over x range from 0 to 2 and y ranges from 0 to 1.\n",
    "  \n",
    "We define the functions f, g, and h, using the lambda expressions. Note that even if g and h are constants, as they may be in many cases, they must be defined as functions, as we have done here for the lower limit."
   ]
  },
  {
   "cell_type": "code",
   "execution_count": null,
   "metadata": {},
   "outputs": [],
   "source": [
    "from scipy import integrate \n",
    "f = lambda y, x: x*y**2\n",
    "i = integrate.dblquad(f, 0, 2, lambda x: 0, lambda x: 1) \n",
    "# print the results \n",
    "print(i) \n"
   ]
  },
  {
   "cell_type": "markdown",
   "metadata": {},
   "source": [
    "There is a lot more that SciPy is capable of, such as Fourier Transforms, Bessel Functions, etc.\n",
    "You can refer the Documentation for more details!\n",
    "\n",
    "Attention geek! Strengthen your foundations with the Python Programming Foundation Course and learn the basics.\n",
    "\n",
    "To begin with, your interview preparations Enhance your Data Structures concepts with the Python DS Course."
   ]
  },
  {
   "cell_type": "markdown",
   "metadata": {},
   "source": [
    "## Interpolation Functions:\n",
    "In the field of numerical analysis, interpolation refers to constructing new data points within a set of known data points. The SciPy library consists of a subpackage named scipy.interpolate that consists of spline functions and classes, one-dimensional and multi-dimensional (univariate and multivariate) interpolation classes, etc. \n",
    "\n",
    "### Univariate Interpolation:\n",
    "Univariate interpolation is basically an area of curve-fitting which finds the curve that provides an exact fit to a series of two-dimensional data points. SciPy provides interp1d function that can be utilized to produce univariate interpolation."
   ]
  },
  {
   "cell_type": "code",
   "execution_count": null,
   "metadata": {},
   "outputs": [],
   "source": []
  },
  {
   "cell_type": "code",
   "execution_count": null,
   "metadata": {},
   "outputs": [],
   "source": []
  },
  {
   "cell_type": "code",
   "execution_count": null,
   "metadata": {},
   "outputs": [],
   "source": []
  },
  {
   "cell_type": "code",
   "execution_count": null,
   "metadata": {},
   "outputs": [],
   "source": []
  }
 ],
 "metadata": {
  "kernelspec": {
   "display_name": "Python 3",
   "language": "python",
   "name": "python3"
  },
  "language_info": {
   "codemirror_mode": {
    "name": "ipython",
    "version": 3
   },
   "file_extension": ".py",
   "mimetype": "text/x-python",
   "name": "python",
   "nbconvert_exporter": "python",
   "pygments_lexer": "ipython3",
   "version": "3.8.3"
  }
 },
 "nbformat": 4,
 "nbformat_minor": 4
}
